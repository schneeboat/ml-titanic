{
  "nbformat": 4,
  "nbformat_minor": 0,
  "metadata": {
    "colab": {
      "name": "Untitled3.ipynb",
      "provenance": [],
      "authorship_tag": "ABX9TyPIkUpRPAzpkrXlP3/kaSif"
    },
    "kernelspec": {
      "name": "python3",
      "display_name": "Python 3"
    }
  },
  "cells": [
    {
      "cell_type": "code",
      "metadata": {
        "id": "CCK73hmBgNOA",
        "colab_type": "code",
        "colab": {
          "base_uri": "https://localhost:8080/",
          "height": 71
        },
        "outputId": "91db2769-47a6-463d-96b1-afc5d48ecf99"
      },
      "source": [
        "import pandas as pd\n",
        "import numpy as np\n",
        "import tensorflow as tf\n",
        "import matplotlib.pyplot as plt\n",
        "import seaborn as sns\n",
        "from sklearn.linear_model import LogisticRegressionCV\n",
        "from sklearn.model_selection import train_test_split\n",
        "from sklearn.metrics import accuracy_score\n",
        "import random"
      ],
      "execution_count": 1,
      "outputs": [
        {
          "output_type": "stream",
          "text": [
            "/usr/local/lib/python3.6/dist-packages/statsmodels/tools/_testing.py:19: FutureWarning: pandas.util.testing is deprecated. Use the functions in the public API at pandas.testing instead.\n",
            "  import pandas.util.testing as tm\n"
          ],
          "name": "stderr"
        }
      ]
    },
    {
      "cell_type": "code",
      "metadata": {
        "id": "8EQzi_UygUYe",
        "colab_type": "code",
        "colab": {}
      },
      "source": [
        "data = pd.read_csv('/train.csv')\n",
        "test_upload = pd.read_csv('/test.csv')"
      ],
      "execution_count": 48,
      "outputs": []
    },
    {
      "cell_type": "code",
      "metadata": {
        "id": "rCZ0MnPngUhV",
        "colab_type": "code",
        "colab": {}
      },
      "source": [
        "data['Pclass'] = data['Pclass'].astype('category')\n",
        "data['Survived'] = data['Survived'].astype('category')\n",
        "data['SibSp'] = data['SibSp'].astype('category')\n",
        "data['Parch'] = data['Parch'].astype('category')\n",
        "data['Sex']=data['Sex'].map({'male':0,'female':1}).astype('category')\n",
        "data['Age'].fillna(value=28, inplace=True)\n"
      ],
      "execution_count": 49,
      "outputs": []
    },
    {
      "cell_type": "code",
      "metadata": {
        "id": "QAOh0TskgUkf",
        "colab_type": "code",
        "colab": {}
      },
      "source": [
        "X=data[['Pclass', 'Sex','SibSp' ,'Parch', 'Fare','Age']] \n",
        "y=data['Survived'] "
      ],
      "execution_count": 50,
      "outputs": []
    },
    {
      "cell_type": "code",
      "metadata": {
        "id": "_Xmm9c5kgUnf",
        "colab_type": "code",
        "colab": {
          "base_uri": "https://localhost:8080/",
          "height": 34
        },
        "outputId": "60c6f080-6473-4277-e2d0-d8859ce1bece"
      },
      "source": [
        "X_train, X_test, y_train, y_test = train_test_split(X, y, test_size=0.3, random_state=0)\n",
        "log = LogisticRegressionCV(max_iter=200, cv=10)\n",
        "log.fit(X_train, y_train)\n",
        "y_pred = log.predict(X_test)\n",
        "accuracy_score(y_test,y_pred)"
      ],
      "execution_count": 51,
      "outputs": [
        {
          "output_type": "execute_result",
          "data": {
            "text/plain": [
              "0.8022388059701493"
            ]
          },
          "metadata": {
            "tags": []
          },
          "execution_count": 51
        }
      ]
    },
    {
      "cell_type": "code",
      "metadata": {
        "id": "V45ZZBDYgUrp",
        "colab_type": "code",
        "colab": {}
      },
      "source": [
        "test_upload['Age'].fillna(value=28, inplace=True)\n",
        "test_upload['Fare'] = test_upload['Fare'].fillna(value=data[data['Pclass']==3]['Fare'].mean())\n",
        "test_upload['Sex']=test_upload['Sex'].map({'male':0,'female':1})\n",
        "test_upload['Sex'] = test_upload['Sex'].astype('category')\n",
        "test_upload['Pclass'] = test_upload['Pclass'].astype('category')\n",
        "test_upload['SibSp'] = test_upload['SibSp'].astype('category')\n",
        "test_upload['Parch'] = test_upload['Parch'].astype('category')\n"
      ],
      "execution_count": 52,
      "outputs": []
    },
    {
      "cell_type": "code",
      "metadata": {
        "id": "DksgjJ43gU1E",
        "colab_type": "code",
        "colab": {}
      },
      "source": [
        "cc=test_upload[['Pclass', 'Sex', 'Age', 'SibSp','Parch', 'Fare']]\n",
        "#cc_scaled=scaler.transform(cc)\n",
        "test_upload['Survived'] = log.predict(cc)"
      ],
      "execution_count": 53,
      "outputs": []
    },
    {
      "cell_type": "code",
      "metadata": {
        "id": "358avDdhgU5F",
        "colab_type": "code",
        "colab": {}
      },
      "source": [
        "test_upload[['PassengerId', 'Survived']].to_csv('up.csv', index=False)"
      ],
      "execution_count": 54,
      "outputs": []
    },
    {
      "cell_type": "code",
      "metadata": {
        "id": "7hJ3UV-xgUy7",
        "colab_type": "code",
        "colab": {}
      },
      "source": [
        ""
      ],
      "execution_count": null,
      "outputs": []
    }
  ]
}